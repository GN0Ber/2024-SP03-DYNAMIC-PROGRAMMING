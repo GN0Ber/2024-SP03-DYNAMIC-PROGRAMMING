{
 "cells": [
  {
   "cell_type": "markdown",
   "id": "3472cea5-4071-4d71-8046-685c779712c6",
   "metadata": {},
   "source": [
    "# Projeto de Treinamento em Laparoscopia com Realidade Virtual"
   ]
  },
  {
   "cell_type": "markdown",
   "id": "ee2d770c-e8b1-4559-81c6-faf4debe13ec",
   "metadata": {},
   "source": [
    "## Introdução"
   ]
  },
  {
   "cell_type": "markdown",
   "id": "12233658-f522-4159-bae4-8f49de70763f",
   "metadata": {},
   "source": [
    "Este projeto tem como objetivo auxiliar o desenvolvimento de um MVP (Minimum Viable Product) para aprimorar o treinamento de residentes em cirurgia laparoscópica utilizando tecnologias de Realidade Virtual (VR). A proposta busca solucionar desafios enfrentados pelo LEPIC/USP, proporcionando uma plataforma de treinamento acessível e eficiente.\n",
    "\n",
    "![Texto alternativo](UseCaseDiagram.png)"
   ]
  },
  {
   "cell_type": "markdown",
   "id": "9bec5c15-c736-40c0-8f06-670f24cc6ebf",
   "metadata": {},
   "source": [
    "## Metodologia"
   ]
  },
  {
   "cell_type": "markdown",
   "id": "b92412aa-c15e-4d34-8cba-bd4b2c070b00",
   "metadata": {},
   "source": [
    "Para alcançar os objetivos propostos, seguimos os seguintes passos:\n",
    "1. **Conexão com o Banco de Dados Oracle:** Utilizamos a biblioteca `oracledb` para estabelecer a conexão e manipular os dados existentes nas tabelas `usuario`, `fase` e `executa`.\n",
    "2. **Estruturas de Dados:** Selecionamos diferentes estruturas de dados (listas, dicionários, DataFrames do Pandas e arrays do NumPy) para armazenar resultados intermediários e compará-las em termos de eficiência e facilidade de uso.\n",
    "3. **Desenvolvimento de Funções em Python:** Criamos funções para processar os dados, calcular estatísticas de desempenho dos residentes e implementar a lógica da solução no contexto do treinamento em VR.\n",
    "4. **Análise dos Resultados:** Avaliamos os dados obtidos e as funcionalidades implementadas, destacando os benefícios e limitações de cada abordagem."
   ]
  },
  {
   "cell_type": "markdown",
   "id": "bd7bd29f-1b98-4673-9d6c-9f079edefaf8",
   "metadata": {},
   "source": [
    "## Implementação"
   ]
  },
  {
   "cell_type": "markdown",
   "id": "d6c717a5-bb51-4bc8-ba82-2493ee5cb17a",
   "metadata": {},
   "source": [
    "### Preparação do Ambiente"
   ]
  },
  {
   "cell_type": "markdown",
   "id": "5846ef49-4505-4494-b8d0-5231f800b8a0",
   "metadata": {},
   "source": [
    "Instalamos as bibliotecas necessárias:\n",
    "\n"
   ]
  },
  {
   "cell_type": "code",
   "execution_count": 10,
   "id": "3888ae22-89ae-445c-a8b7-6e9cea126274",
   "metadata": {
    "collapsed": true,
    "jupyter": {
     "outputs_hidden": true
    },
    "scrolled": true
   },
   "outputs": [
    {
     "name": "stdout",
     "output_type": "stream",
     "text": [
      "Requirement already satisfied: oracledb in c:\\users\\guilherme\\anaconda3\\lib\\site-packages (2.4.1)\n",
      "Requirement already satisfied: pandas in c:\\users\\guilherme\\anaconda3\\lib\\site-packages (2.1.4)\n",
      "Requirement already satisfied: numpy in c:\\users\\guilherme\\anaconda3\\lib\\site-packages (1.26.4)\n",
      "Requirement already satisfied: cryptography>=3.2.1 in c:\\users\\guilherme\\anaconda3\\lib\\site-packages (from oracledb) (42.0.2)\n",
      "Requirement already satisfied: python-dateutil>=2.8.2 in c:\\users\\guilherme\\anaconda3\\lib\\site-packages (from pandas) (2.8.2)\n",
      "Requirement already satisfied: pytz>=2020.1 in c:\\users\\guilherme\\anaconda3\\lib\\site-packages (from pandas) (2023.3.post1)\n",
      "Requirement already satisfied: tzdata>=2022.1 in c:\\users\\guilherme\\anaconda3\\lib\\site-packages (from pandas) (2023.3)\n",
      "Requirement already satisfied: cffi>=1.12 in c:\\users\\guilherme\\anaconda3\\lib\\site-packages (from cryptography>=3.2.1->oracledb) (1.16.0)\n",
      "Requirement already satisfied: six>=1.5 in c:\\users\\guilherme\\anaconda3\\lib\\site-packages (from python-dateutil>=2.8.2->pandas) (1.16.0)\n",
      "Requirement already satisfied: pycparser in c:\\users\\guilherme\\anaconda3\\lib\\site-packages (from cffi>=1.12->cryptography>=3.2.1->oracledb) (2.21)\n"
     ]
    }
   ],
   "source": [
    "!pip install oracledb pandas numpy"
   ]
  },
  {
   "cell_type": "markdown",
   "id": "b5f95e5a-0751-43d8-b052-95521d17ca1b",
   "metadata": {},
   "source": [
    "### Importação das Bibliotecas"
   ]
  },
  {
   "cell_type": "code",
   "execution_count": 12,
   "id": "0f2560b0-98af-48fd-8cc1-b89075d99820",
   "metadata": {},
   "outputs": [],
   "source": [
    "import oracledb\n",
    "import pandas as pd\n",
    "import numpy as np\n",
    "import time\n",
    "import timeit"
   ]
  },
  {
   "cell_type": "markdown",
   "id": "47941496-f809-49b5-9be1-ff2a4f709f20",
   "metadata": {},
   "source": [
    "### Conexão com o Banco de Dados Oracle"
   ]
  },
  {
   "cell_type": "code",
   "execution_count": 14,
   "id": "ceb069df-6d89-4e33-b477-5434ca0e0e6a",
   "metadata": {},
   "outputs": [
    {
     "name": "stdout",
     "output_type": "stream",
     "text": [
      "Conexão estabelecida com sucesso!\n"
     ]
    }
   ],
   "source": [
    "# Conectar em modo Thin (sem necessidade do Instant Client)\n",
    "connection = oracledb.connect(\n",
    "    user='RM98604',\n",
    "    password='300402',\n",
    "    dsn='oracle.fiap.com.br:1521/orcl'\n",
    ")\n",
    "print(\"Conexão estabelecida com sucesso!\")"
   ]
  },
  {
   "cell_type": "markdown",
   "id": "b959f1cf-7380-4c5b-9c54-db8134c51e89",
   "metadata": {},
   "source": [
    "### Execução de Consultas e Recuperação de Dados"
   ]
  },
  {
   "cell_type": "markdown",
   "id": "834a8ce0-85d1-4a34-b5c2-3f8dca245042",
   "metadata": {},
   "source": [
    "#### Recuperar Dados dos Usuários"
   ]
  },
  {
   "cell_type": "code",
   "execution_count": 17,
   "id": "da4f3f76-7388-4314-8dc5-284187425a23",
   "metadata": {
    "scrolled": true
   },
   "outputs": [
    {
     "name": "stderr",
     "output_type": "stream",
     "text": [
      "C:\\Users\\Guilherme\\AppData\\Local\\Temp\\ipykernel_2008\\2841585385.py:3: UserWarning: pandas only supports SQLAlchemy connectable (engine/connection) or database string URI or sqlite3 DBAPI2 connection. Other DBAPI2 objects are not tested. Please consider using SQLAlchemy.\n",
      "  df_usuarios = pd.read_sql(query_usuarios, con=connection)\n"
     ]
    },
    {
     "data": {
      "text/html": [
       "<div>\n",
       "<style scoped>\n",
       "    .dataframe tbody tr th:only-of-type {\n",
       "        vertical-align: middle;\n",
       "    }\n",
       "\n",
       "    .dataframe tbody tr th {\n",
       "        vertical-align: top;\n",
       "    }\n",
       "\n",
       "    .dataframe thead th {\n",
       "        text-align: right;\n",
       "    }\n",
       "</style>\n",
       "<table border=\"1\" class=\"dataframe\">\n",
       "  <thead>\n",
       "    <tr style=\"text-align: right;\">\n",
       "      <th></th>\n",
       "      <th>ID_USUARIO</th>\n",
       "      <th>NM_USUARIO</th>\n",
       "      <th>EMAIL</th>\n",
       "      <th>SENHA</th>\n",
       "      <th>TP_USUARIO</th>\n",
       "      <th>GERIDO_POR</th>\n",
       "    </tr>\n",
       "  </thead>\n",
       "  <tbody>\n",
       "    <tr>\n",
       "      <th>0</th>\n",
       "      <td>1</td>\n",
       "      <td>Guilherme Nobre Bernardo</td>\n",
       "      <td>rm98604@fiap.com.br</td>\n",
       "      <td>34eeb309cc726bdb79f674b0e0912e5eae468045748230...</td>\n",
       "      <td>0</td>\n",
       "      <td>1</td>\n",
       "    </tr>\n",
       "    <tr>\n",
       "      <th>1</th>\n",
       "      <td>2</td>\n",
       "      <td>Bobson da Sílva Santos</td>\n",
       "      <td>son.bob@gmail.com.br</td>\n",
       "      <td>aec04198e7d486b7a2823d7518e9804e8fa0232eac95ab...</td>\n",
       "      <td>1</td>\n",
       "      <td>1</td>\n",
       "    </tr>\n",
       "    <tr>\n",
       "      <th>2</th>\n",
       "      <td>3</td>\n",
       "      <td>Caíque Walter Silva</td>\n",
       "      <td>rm550693@fiap.com.br</td>\n",
       "      <td>50a4f9cc73f428a42116ce6790c30ee8f24b1aaefabc32...</td>\n",
       "      <td>2</td>\n",
       "      <td>2</td>\n",
       "    </tr>\n",
       "    <tr>\n",
       "      <th>3</th>\n",
       "      <td>4</td>\n",
       "      <td>Gabriela Marsiglia</td>\n",
       "      <td>rm551237@fiap.com.br</td>\n",
       "      <td>d8a753c6533a75203d931626917fc1d7bffbe8c361ef52...</td>\n",
       "      <td>2</td>\n",
       "      <td>2</td>\n",
       "    </tr>\n",
       "    <tr>\n",
       "      <th>4</th>\n",
       "      <td>5</td>\n",
       "      <td>Matheus José de Lima Costa</td>\n",
       "      <td>rm551157@fiap.com.br</td>\n",
       "      <td>38a0963a6364b09ad867aa9a66c6d009673c21e1820154...</td>\n",
       "      <td>2</td>\n",
       "      <td>2</td>\n",
       "    </tr>\n",
       "    <tr>\n",
       "      <th>5</th>\n",
       "      <td>21</td>\n",
       "      <td>Roberson</td>\n",
       "      <td>roberson123@garai</td>\n",
       "      <td>123</td>\n",
       "      <td>1</td>\n",
       "      <td>1</td>\n",
       "    </tr>\n",
       "    <tr>\n",
       "      <th>6</th>\n",
       "      <td>43</td>\n",
       "      <td>senha123</td>\n",
       "      <td>Nome Teste</td>\n",
       "      <td>email@teste.com</td>\n",
       "      <td>1</td>\n",
       "      <td>1</td>\n",
       "    </tr>\n",
       "    <tr>\n",
       "      <th>7</th>\n",
       "      <td>22</td>\n",
       "      <td>Cleison</td>\n",
       "      <td>cleison@garai</td>\n",
       "      <td>123</td>\n",
       "      <td>1</td>\n",
       "      <td>1</td>\n",
       "    </tr>\n",
       "    <tr>\n",
       "      <th>8</th>\n",
       "      <td>41</td>\n",
       "      <td>teste</td>\n",
       "      <td>teste@teste</td>\n",
       "      <td>123</td>\n",
       "      <td>1</td>\n",
       "      <td>1</td>\n",
       "    </tr>\n",
       "    <tr>\n",
       "      <th>9</th>\n",
       "      <td>42</td>\n",
       "      <td>mat</td>\n",
       "      <td>mat</td>\n",
       "      <td>123</td>\n",
       "      <td>1</td>\n",
       "      <td>1</td>\n",
       "    </tr>\n",
       "  </tbody>\n",
       "</table>\n",
       "</div>"
      ],
      "text/plain": [
       "   ID_USUARIO                  NM_USUARIO                 EMAIL  \\\n",
       "0           1    Guilherme Nobre Bernardo   rm98604@fiap.com.br   \n",
       "1           2      Bobson da Sílva Santos  son.bob@gmail.com.br   \n",
       "2           3         Caíque Walter Silva  rm550693@fiap.com.br   \n",
       "3           4          Gabriela Marsiglia  rm551237@fiap.com.br   \n",
       "4           5  Matheus José de Lima Costa  rm551157@fiap.com.br   \n",
       "5          21                    Roberson     roberson123@garai   \n",
       "6          43                    senha123            Nome Teste   \n",
       "7          22                     Cleison         cleison@garai   \n",
       "8          41                       teste           teste@teste   \n",
       "9          42                         mat                   mat   \n",
       "\n",
       "                                               SENHA  TP_USUARIO  GERIDO_POR  \n",
       "0  34eeb309cc726bdb79f674b0e0912e5eae468045748230...           0           1  \n",
       "1  aec04198e7d486b7a2823d7518e9804e8fa0232eac95ab...           1           1  \n",
       "2  50a4f9cc73f428a42116ce6790c30ee8f24b1aaefabc32...           2           2  \n",
       "3  d8a753c6533a75203d931626917fc1d7bffbe8c361ef52...           2           2  \n",
       "4  38a0963a6364b09ad867aa9a66c6d009673c21e1820154...           2           2  \n",
       "5                                                123           1           1  \n",
       "6                                    email@teste.com           1           1  \n",
       "7                                                123           1           1  \n",
       "8                                                123           1           1  \n",
       "9                                                123           1           1  "
      ]
     },
     "execution_count": 17,
     "metadata": {},
     "output_type": "execute_result"
    }
   ],
   "source": [
    "# Criar um DataFrame com os dados dos usuários\n",
    "query_usuarios = \"SELECT * FROM usuario\"\n",
    "df_usuarios = pd.read_sql(query_usuarios, con=connection)\n",
    "df_usuarios"
   ]
  },
  {
   "cell_type": "markdown",
   "id": "670d0395-2721-4e1c-bcfb-a370fe74c13c",
   "metadata": {},
   "source": [
    "#### Recuperar Dados das Fases"
   ]
  },
  {
   "cell_type": "code",
   "execution_count": 19,
   "id": "5cfcfe1a-7bb8-4044-87d8-b226a1140caa",
   "metadata": {
    "scrolled": true
   },
   "outputs": [
    {
     "name": "stderr",
     "output_type": "stream",
     "text": [
      "C:\\Users\\Guilherme\\AppData\\Local\\Temp\\ipykernel_2008\\510870044.py:3: UserWarning: pandas only supports SQLAlchemy connectable (engine/connection) or database string URI or sqlite3 DBAPI2 connection. Other DBAPI2 objects are not tested. Please consider using SQLAlchemy.\n",
      "  df_fases = pd.read_sql(query_fases, con=connection)\n"
     ]
    },
    {
     "data": {
      "text/html": [
       "<div>\n",
       "<style scoped>\n",
       "    .dataframe tbody tr th:only-of-type {\n",
       "        vertical-align: middle;\n",
       "    }\n",
       "\n",
       "    .dataframe tbody tr th {\n",
       "        vertical-align: top;\n",
       "    }\n",
       "\n",
       "    .dataframe thead th {\n",
       "        text-align: right;\n",
       "    }\n",
       "</style>\n",
       "<table border=\"1\" class=\"dataframe\">\n",
       "  <thead>\n",
       "    <tr style=\"text-align: right;\">\n",
       "      <th></th>\n",
       "      <th>ID_FASE</th>\n",
       "      <th>NM_FASE</th>\n",
       "      <th>LV_DIFICULDADE</th>\n",
       "      <th>DESCRICAO</th>\n",
       "    </tr>\n",
       "  </thead>\n",
       "  <tbody>\n",
       "    <tr>\n",
       "      <th>0</th>\n",
       "      <td>21</td>\n",
       "      <td>FaseTeste</td>\n",
       "      <td>2</td>\n",
       "      <td>Fase onde se opera AIDs</td>\n",
       "    </tr>\n",
       "    <tr>\n",
       "      <th>1</th>\n",
       "      <td>23</td>\n",
       "      <td>FASE TESTE EBOLA</td>\n",
       "      <td>3</td>\n",
       "      <td>OPERANDO EBOLA</td>\n",
       "    </tr>\n",
       "    <tr>\n",
       "      <th>2</th>\n",
       "      <td>24</td>\n",
       "      <td>FASE LEGAL</td>\n",
       "      <td>2</td>\n",
       "      <td>FASE MUITO LEGAL</td>\n",
       "    </tr>\n",
       "    <tr>\n",
       "      <th>3</th>\n",
       "      <td>29</td>\n",
       "      <td>Nível Teste</td>\n",
       "      <td>3</td>\n",
       "      <td>Descrição Teste</td>\n",
       "    </tr>\n",
       "    <tr>\n",
       "      <th>4</th>\n",
       "      <td>30</td>\n",
       "      <td>Nível Teste</td>\n",
       "      <td>3</td>\n",
       "      <td>Descrição Teste</td>\n",
       "    </tr>\n",
       "    <tr>\n",
       "      <th>5</th>\n",
       "      <td>1</td>\n",
       "      <td>Fase 01</td>\n",
       "      <td>1</td>\n",
       "      <td>Fase numero 1 do programa</td>\n",
       "    </tr>\n",
       "    <tr>\n",
       "      <th>6</th>\n",
       "      <td>2</td>\n",
       "      <td>Fase 02</td>\n",
       "      <td>1</td>\n",
       "      <td>Fase numero 2 do programa</td>\n",
       "    </tr>\n",
       "    <tr>\n",
       "      <th>7</th>\n",
       "      <td>3</td>\n",
       "      <td>Fase 03</td>\n",
       "      <td>2</td>\n",
       "      <td>Fase numero 3 do programa</td>\n",
       "    </tr>\n",
       "    <tr>\n",
       "      <th>8</th>\n",
       "      <td>4</td>\n",
       "      <td>Fase 04</td>\n",
       "      <td>2</td>\n",
       "      <td>Fase numero 4 do programa</td>\n",
       "    </tr>\n",
       "    <tr>\n",
       "      <th>9</th>\n",
       "      <td>5</td>\n",
       "      <td>Fase 05</td>\n",
       "      <td>3</td>\n",
       "      <td>Fase numero 5 do programa</td>\n",
       "    </tr>\n",
       "    <tr>\n",
       "      <th>10</th>\n",
       "      <td>25</td>\n",
       "      <td>Nível Teste</td>\n",
       "      <td>3</td>\n",
       "      <td>Descrição Teste</td>\n",
       "    </tr>\n",
       "    <tr>\n",
       "      <th>11</th>\n",
       "      <td>26</td>\n",
       "      <td>Nível Teste</td>\n",
       "      <td>3</td>\n",
       "      <td>Descrição Teste</td>\n",
       "    </tr>\n",
       "    <tr>\n",
       "      <th>12</th>\n",
       "      <td>22</td>\n",
       "      <td>faseTESTE</td>\n",
       "      <td>2</td>\n",
       "      <td>FASE DE AIDS</td>\n",
       "    </tr>\n",
       "    <tr>\n",
       "      <th>13</th>\n",
       "      <td>27</td>\n",
       "      <td>Nível Teste</td>\n",
       "      <td>3</td>\n",
       "      <td>Descrição Teste</td>\n",
       "    </tr>\n",
       "    <tr>\n",
       "      <th>14</th>\n",
       "      <td>28</td>\n",
       "      <td>Nível Teste</td>\n",
       "      <td>3</td>\n",
       "      <td>Descrição Teste</td>\n",
       "    </tr>\n",
       "    <tr>\n",
       "      <th>15</th>\n",
       "      <td>31</td>\n",
       "      <td>Test Level</td>\n",
       "      <td>3</td>\n",
       "      <td>This is a test level.</td>\n",
       "    </tr>\n",
       "  </tbody>\n",
       "</table>\n",
       "</div>"
      ],
      "text/plain": [
       "    ID_FASE           NM_FASE  LV_DIFICULDADE                  DESCRICAO\n",
       "0        21         FaseTeste               2    Fase onde se opera AIDs\n",
       "1        23  FASE TESTE EBOLA               3             OPERANDO EBOLA\n",
       "2        24        FASE LEGAL               2           FASE MUITO LEGAL\n",
       "3        29       Nível Teste               3            Descrição Teste\n",
       "4        30       Nível Teste               3            Descrição Teste\n",
       "5         1           Fase 01               1  Fase numero 1 do programa\n",
       "6         2           Fase 02               1  Fase numero 2 do programa\n",
       "7         3           Fase 03               2  Fase numero 3 do programa\n",
       "8         4           Fase 04               2  Fase numero 4 do programa\n",
       "9         5           Fase 05               3  Fase numero 5 do programa\n",
       "10       25       Nível Teste               3            Descrição Teste\n",
       "11       26       Nível Teste               3            Descrição Teste\n",
       "12       22         faseTESTE               2               FASE DE AIDS\n",
       "13       27       Nível Teste               3            Descrição Teste\n",
       "14       28       Nível Teste               3            Descrição Teste\n",
       "15       31        Test Level               3      This is a test level."
      ]
     },
     "execution_count": 19,
     "metadata": {},
     "output_type": "execute_result"
    }
   ],
   "source": [
    "# Criar um DataFrame com os dados das fases\n",
    "query_fases = \"SELECT * FROM fase\"\n",
    "df_fases = pd.read_sql(query_fases, con=connection)\n",
    "df_fases"
   ]
  },
  {
   "cell_type": "markdown",
   "id": "3809c9a0-35fc-46f1-bc7f-0d8483338e7c",
   "metadata": {},
   "source": [
    "#### Recuperar Dados das Execuções"
   ]
  },
  {
   "cell_type": "code",
   "execution_count": 21,
   "id": "9e5ad917-c7a5-4bb6-9675-a5bbd963a2f3",
   "metadata": {
    "scrolled": true
   },
   "outputs": [
    {
     "name": "stderr",
     "output_type": "stream",
     "text": [
      "C:\\Users\\Guilherme\\AppData\\Local\\Temp\\ipykernel_2008\\209434149.py:3: UserWarning: pandas only supports SQLAlchemy connectable (engine/connection) or database string URI or sqlite3 DBAPI2 connection. Other DBAPI2 objects are not tested. Please consider using SQLAlchemy.\n",
      "  df_executa = pd.read_sql(query_executa, con=connection)\n"
     ]
    },
    {
     "data": {
      "text/html": [
       "<div>\n",
       "<style scoped>\n",
       "    .dataframe tbody tr th:only-of-type {\n",
       "        vertical-align: middle;\n",
       "    }\n",
       "\n",
       "    .dataframe tbody tr th {\n",
       "        vertical-align: top;\n",
       "    }\n",
       "\n",
       "    .dataframe thead th {\n",
       "        text-align: right;\n",
       "    }\n",
       "</style>\n",
       "<table border=\"1\" class=\"dataframe\">\n",
       "  <thead>\n",
       "    <tr style=\"text-align: right;\">\n",
       "      <th></th>\n",
       "      <th>ID_USUARIO</th>\n",
       "      <th>ID_FASE</th>\n",
       "      <th>DT_TREINAMENTO</th>\n",
       "      <th>TM_EXECUCAO</th>\n",
       "      <th>PRECISAO</th>\n",
       "    </tr>\n",
       "  </thead>\n",
       "  <tbody>\n",
       "    <tr>\n",
       "      <th>0</th>\n",
       "      <td>3</td>\n",
       "      <td>1</td>\n",
       "      <td>2024-09-15 18:53:41</td>\n",
       "      <td>0 days 00:10:30.500000</td>\n",
       "      <td>0.2296</td>\n",
       "    </tr>\n",
       "    <tr>\n",
       "      <th>1</th>\n",
       "      <td>4</td>\n",
       "      <td>2</td>\n",
       "      <td>2024-09-15 18:57:10</td>\n",
       "      <td>0 days 00:12:15.985000</td>\n",
       "      <td>0.1654</td>\n",
       "    </tr>\n",
       "    <tr>\n",
       "      <th>2</th>\n",
       "      <td>5</td>\n",
       "      <td>3</td>\n",
       "      <td>2024-09-15 18:57:10</td>\n",
       "      <td>0 days 00:05:46.452000</td>\n",
       "      <td>0.9851</td>\n",
       "    </tr>\n",
       "    <tr>\n",
       "      <th>3</th>\n",
       "      <td>3</td>\n",
       "      <td>2</td>\n",
       "      <td>2024-09-15 18:57:10</td>\n",
       "      <td>0 days 00:09:37.458000</td>\n",
       "      <td>0.7546</td>\n",
       "    </tr>\n",
       "    <tr>\n",
       "      <th>4</th>\n",
       "      <td>4</td>\n",
       "      <td>3</td>\n",
       "      <td>2024-09-15 18:57:10</td>\n",
       "      <td>0 days 00:22:19.454000</td>\n",
       "      <td>1.0000</td>\n",
       "    </tr>\n",
       "    <tr>\n",
       "      <th>5</th>\n",
       "      <td>5</td>\n",
       "      <td>1</td>\n",
       "      <td>2024-09-15 18:57:38</td>\n",
       "      <td>0 days 00:01:59.165000</td>\n",
       "      <td>0.0000</td>\n",
       "    </tr>\n",
       "  </tbody>\n",
       "</table>\n",
       "</div>"
      ],
      "text/plain": [
       "   ID_USUARIO  ID_FASE      DT_TREINAMENTO            TM_EXECUCAO  PRECISAO\n",
       "0           3        1 2024-09-15 18:53:41 0 days 00:10:30.500000    0.2296\n",
       "1           4        2 2024-09-15 18:57:10 0 days 00:12:15.985000    0.1654\n",
       "2           5        3 2024-09-15 18:57:10 0 days 00:05:46.452000    0.9851\n",
       "3           3        2 2024-09-15 18:57:10 0 days 00:09:37.458000    0.7546\n",
       "4           4        3 2024-09-15 18:57:10 0 days 00:22:19.454000    1.0000\n",
       "5           5        1 2024-09-15 18:57:38 0 days 00:01:59.165000    0.0000"
      ]
     },
     "execution_count": 21,
     "metadata": {},
     "output_type": "execute_result"
    }
   ],
   "source": [
    "# Criar um DataFrame com os dados das execuções\n",
    "query_executa = \"SELECT * FROM executa\"\n",
    "df_executa = pd.read_sql(query_executa, con=connection)\n",
    "df_executa"
   ]
  },
  {
   "cell_type": "markdown",
   "id": "f4e55b0c-a377-4616-9d2a-56f8a4dd7086",
   "metadata": {},
   "source": [
    "### Estruturas de Dados para Armazenamento Intermediário"
   ]
  },
  {
   "cell_type": "markdown",
   "id": "29461465-a00d-4ef3-83bf-c14f2d3a7584",
   "metadata": {},
   "source": [
    "#### Utilizando Listas de Dicionários"
   ]
  },
  {
   "cell_type": "code",
   "execution_count": 24,
   "id": "72342cfd-d2b9-43d7-8e16-d022a15546ea",
   "metadata": {},
   "outputs": [],
   "source": [
    "# Converter DataFrames em listas de dicionários\n",
    "usuarios_lista = df_usuarios.to_dict('records')\n",
    "fases_lista = df_fases.to_dict('records')\n",
    "executa_lista = df_executa.to_dict('records')"
   ]
  },
  {
   "cell_type": "markdown",
   "id": "9ad845ff-3447-41d7-a0c6-87e82ad78d06",
   "metadata": {},
   "source": [
    "#### Utilizando Dicionários de Dicionários"
   ]
  },
  {
   "cell_type": "code",
   "execution_count": 26,
   "id": "e0de3aa5-b57e-4da3-a2a1-79144d1e5977",
   "metadata": {},
   "outputs": [],
   "source": [
    "# Criar dicionários com IDs como chaves\n",
    "usuarios_dict = df_usuarios.set_index('ID_USUARIO').to_dict('index')\n",
    "fases_dict = df_fases.set_index('ID_FASE').to_dict('index')\n",
    "executa_dict = df_executa.set_index(['ID_USUARIO', 'ID_FASE']).to_dict('index')"
   ]
  },
  {
   "cell_type": "markdown",
   "id": "732b02a7-c8e0-48ba-8100-5b25e3e83fd5",
   "metadata": {},
   "source": [
    "#### Utilizando DataFrames do Pandas"
   ]
  },
  {
   "cell_type": "markdown",
   "id": "0233acb2-2ca8-46e5-91b1-c7485d3bf7b6",
   "metadata": {},
   "source": [
    "Os DataFrames já foram criados anteriormente e serão utilizados diretamente."
   ]
  },
  {
   "cell_type": "markdown",
   "id": "7bf765b0-1a3c-45dc-ae82-00bb48e521d5",
   "metadata": {},
   "source": [
    "#### Utilizando Arrays do NumPy"
   ]
  },
  {
   "cell_type": "code",
   "execution_count": 30,
   "id": "89b1c694-5dea-4a83-b3ff-2129d2299b16",
   "metadata": {},
   "outputs": [],
   "source": [
    "# Converter colunas numéricas em arrays NumPy\n",
    "execucao_tempo = np.array(df_executa['TM_EXECUCAO'])\n",
    "precisao_array = np.array(df_executa['PRECISAO'])"
   ]
  },
  {
   "cell_type": "markdown",
   "id": "43568993-a2b4-4652-8eea-ca94c91e2e90",
   "metadata": {},
   "source": [
    "### Comparação das Estruturas"
   ]
  },
  {
   "cell_type": "markdown",
   "id": "5387ce66-76c8-4f06-b93f-33b96027972c",
   "metadata": {},
   "source": [
    "Para comparar as diferentes estruturas de dados, implementamos funções que calculam a média de precisão por residente utilizando cada uma delas. Medimos o tempo de execução de cada função para determinar qual abordagem é mais eficiente."
   ]
  },
  {
   "cell_type": "markdown",
   "id": "b7aa6f15-6625-47d8-b26d-819833c9ee55",
   "metadata": {},
   "source": [
    "#### Função utilizando Lista de Dicionários"
   ]
  },
  {
   "cell_type": "code",
   "execution_count": 34,
   "id": "2dfd2b52-4839-4848-b5b5-02b876995ee2",
   "metadata": {},
   "outputs": [],
   "source": [
    "def media_precisao_lista(executa_lista):\n",
    "    resultados = {}\n",
    "    contagem = {}\n",
    "    for item in executa_lista:\n",
    "        id_usuario = item['ID_USUARIO']\n",
    "        precisao = item['PRECISAO']\n",
    "        if id_usuario in resultados:\n",
    "            resultados[id_usuario] += precisao\n",
    "            contagem[id_usuario] += 1\n",
    "        else:\n",
    "            resultados[id_usuario] = precisao\n",
    "            contagem[id_usuario] = 1\n",
    "    media = {k: resultados[k]/contagem[k] for k in resultados}\n",
    "    return media"
   ]
  },
  {
   "cell_type": "markdown",
   "id": "7a6aa95e-6c11-4243-8894-2d6aecf97e02",
   "metadata": {},
   "source": [
    "#### Função utilizando Dicionário de Dicionários"
   ]
  },
  {
   "cell_type": "code",
   "execution_count": 36,
   "id": "e489eda4-c5d6-412e-8731-9bdab514f089",
   "metadata": {},
   "outputs": [],
   "source": [
    "def media_precisao_dict(executa_dict):\n",
    "    resultados = {}\n",
    "    contagem = {}\n",
    "    for (id_usuario, _), valores in executa_dict.items():\n",
    "        precisao = valores['PRECISAO']\n",
    "        if id_usuario in resultados:\n",
    "            resultados[id_usuario] += precisao\n",
    "            contagem[id_usuario] += 1\n",
    "        else:\n",
    "            resultados[id_usuario] = precisao\n",
    "            contagem[id_usuario] = 1\n",
    "    media = {k: resultados[k]/contagem[k] for k in resultados}\n",
    "    return media"
   ]
  },
  {
   "cell_type": "markdown",
   "id": "e558d2d6-56be-4677-acd0-8df8c48a0500",
   "metadata": {},
   "source": [
    "#### Função utilizando DataFrame do Pandas"
   ]
  },
  {
   "cell_type": "code",
   "execution_count": 38,
   "id": "0f8571d4-2327-49c8-8bfd-51291d910cdb",
   "metadata": {},
   "outputs": [],
   "source": [
    "def media_precisao_pandas(executa_df):\n",
    "    media = executa_df.groupby('ID_USUARIO')['PRECISAO'].mean().to_dict()\n",
    "    return media"
   ]
  },
  {
   "cell_type": "markdown",
   "id": "0003722b-c0c7-4b66-ac27-8f0d4ecf3bb5",
   "metadata": {},
   "source": [
    "#### Função utilizando Arrays do NumPy"
   ]
  },
  {
   "cell_type": "code",
   "execution_count": 40,
   "id": "ba35ff0d-c4be-4e01-beeb-be8e4eaf6761",
   "metadata": {},
   "outputs": [],
   "source": [
    "def media_precisao_numpy(executa_df):\n",
    "    ids = executa_df['ID_USUARIO'].values\n",
    "    precisao = executa_df['PRECISAO'].values\n",
    "    unique_ids = np.unique(ids)\n",
    "    media = {}\n",
    "    for uid in unique_ids:\n",
    "        media[uid] = precisao[ids == uid].mean()\n",
    "    return media"
   ]
  },
  {
   "cell_type": "markdown",
   "id": "e5ad4822-ba91-4bc1-b712-8e52f38e3952",
   "metadata": {},
   "source": [
    "### Medindo o Tempo de Execução"
   ]
  },
  {
   "cell_type": "markdown",
   "id": "1ba02ec1-175d-42ec-a5d7-0483ca6d4d29",
   "metadata": {},
   "source": [
    "Utilizamos o módulo `timeit` para medir o tempo de execução de cada função."
   ]
  },
  {
   "cell_type": "markdown",
   "id": "6ce186f6-ba8c-4e58-a6fc-aec8b4066ad0",
   "metadata": {},
   "source": [
    "#### Tempo de Execução com Lista de Dicionários"
   ]
  },
  {
   "cell_type": "code",
   "execution_count": 44,
   "id": "6cbf86e4-e4e9-4fa0-a94b-1f89c52f7d71",
   "metadata": {},
   "outputs": [
    {
     "name": "stdout",
     "output_type": "stream",
     "text": [
      "Tempo de execução com Lista de Dicionários: 0.001460 segundos\n"
     ]
    }
   ],
   "source": [
    "tempo_lista = timeit.timeit(lambda: media_precisao_lista(executa_lista), number=1000)\n",
    "print(f\"Tempo de execução com Lista de Dicionários: {tempo_lista:.6f} segundos\")"
   ]
  },
  {
   "cell_type": "markdown",
   "id": "fa0c68f0-440d-4568-9742-312ebf4bb552",
   "metadata": {},
   "source": [
    "#### Tempo de Execução com Dicionário de Dicionários"
   ]
  },
  {
   "cell_type": "code",
   "execution_count": 46,
   "id": "3ddf1cbd-4310-4cda-8dc3-a5001941b813",
   "metadata": {},
   "outputs": [
    {
     "name": "stdout",
     "output_type": "stream",
     "text": [
      "Tempo de execução com Dicionário de Dicionários: 0.001218 segundos\n"
     ]
    }
   ],
   "source": [
    "tempo_dict = timeit.timeit(lambda: media_precisao_dict(executa_dict), number=1000)\n",
    "print(f\"Tempo de execução com Dicionário de Dicionários: {tempo_dict:.6f} segundos\")"
   ]
  },
  {
   "cell_type": "markdown",
   "id": "f001e90c-a796-439c-8f7a-28d4c2565aa0",
   "metadata": {},
   "source": [
    "#### Tempo de Execução com DataFrame do Pandas"
   ]
  },
  {
   "cell_type": "code",
   "execution_count": 48,
   "id": "fd7b2f30-4d1a-427d-89d9-d1ca34ebb67e",
   "metadata": {},
   "outputs": [
    {
     "name": "stdout",
     "output_type": "stream",
     "text": [
      "Tempo de execução com Pandas DataFrame: 0.114621 segundos\n"
     ]
    }
   ],
   "source": [
    "tempo_pandas = timeit.timeit(lambda: media_precisao_pandas(df_executa), number=1000)\n",
    "print(f\"Tempo de execução com Pandas DataFrame: {tempo_pandas:.6f} segundos\")"
   ]
  },
  {
   "cell_type": "markdown",
   "id": "8a187be3-e302-44cb-b7c4-130a1bbd23d3",
   "metadata": {},
   "source": [
    "#### Tempo de Execução com NumPy Arrays"
   ]
  },
  {
   "cell_type": "code",
   "execution_count": 50,
   "id": "fd38f672-60e7-4f4e-95e1-3183b00d6900",
   "metadata": {},
   "outputs": [
    {
     "name": "stdout",
     "output_type": "stream",
     "text": [
      "Tempo de execução com NumPy Arrays: 0.017650 segundos\n"
     ]
    }
   ],
   "source": [
    "tempo_numpy = timeit.timeit(lambda: media_precisao_numpy(df_executa), number=1000)\n",
    "print(f\"Tempo de execução com NumPy Arrays: {tempo_numpy:.6f} segundos\")"
   ]
  },
  {
   "cell_type": "markdown",
   "id": "9c75d80b-a50b-41cf-84bb-8b461fb519a2",
   "metadata": {},
   "source": [
    "### Resultados dos Tempos de Execução"
   ]
  },
  {
   "cell_type": "code",
   "execution_count": 52,
   "id": "da0061fb-34d7-46c6-8561-9619d2ee73b2",
   "metadata": {},
   "outputs": [
    {
     "name": "stdout",
     "output_type": "stream",
     "text": [
      "Comparação dos Tempos de Execução:\n",
      "Lista de Dicionários: 0.001460 segundos\n",
      "Dicionário de Dicionários: 0.001218 segundos\n",
      "Pandas DataFrame: 0.114621 segundos\n",
      "NumPy Arrays: 0.017650 segundos\n"
     ]
    }
   ],
   "source": [
    "print(\"Comparação dos Tempos de Execução:\")\n",
    "print(f\"Lista de Dicionários: {tempo_lista:.6f} segundos\")\n",
    "print(f\"Dicionário de Dicionários: {tempo_dict:.6f} segundos\")\n",
    "print(f\"Pandas DataFrame: {tempo_pandas:.6f} segundos\")\n",
    "print(f\"NumPy Arrays: {tempo_numpy:.6f} segundos\")"
   ]
  },
  {
   "cell_type": "markdown",
   "id": "a5a86b1f-e3b7-46b3-bedc-de77929c6972",
   "metadata": {},
   "source": [
    "#### Análise dos Resultados\n",
    "Com base nos tempos medidos, podemos comparar a eficiência de cada estrutura:\n",
    "\n",
    "- **Dicionário de Dicionários:** Apresentou o menor tempo de execução (0.001218 segundos), sendo a opção mais eficiente entre as testadas. Isso ocorre porque os dicionários permitem acesso rápido aos elementos por chave, reduzindo o tempo de busca e agregação sem a necessidade de loops complexos.\n",
    "- **Lista de Dicionários:** Teve um tempo de execução ligeiramente maior (0.001460 segundos) em comparação com o dicionário de dicionários. Embora seja simples de implementar, a iteração explícita sobre a lista adiciona um pequeno overhead, especialmente quando comparado ao acesso direto por chave nos dicionários.\n",
    "- **NumPy Arrays:** Apresentou um tempo de execução intermediário (0.017650 segundos). Apesar de o NumPy ser altamente otimizado para operações em grandes volumes de dados numéricos, neste caso específico, o processo de filtragem e cálculo da média para cada usuário adiciona complexidade ao código e aumenta o tempo de execução em comparação com estruturas mais simples.\n",
    "- **Pandas DataFrame:** Teve o maior tempo de execução (0.114621 segundos), sendo significativamente mais lento que as outras abordagens. Isso pode ser atribuído ao overhead associado aos métodos internos do Pandas para operações de agrupamento e agregação. O Pandas é mais eficiente em conjuntos de dados maiores, onde suas otimizações podem superar o overhead inicial.\n",
    "\n",
    "**Observação:** Os tempos de execução foram medidos em um conjunto de dados relativamente pequeno. Em cenários com volumes de dados maiores, as vantagens das otimizações internas do Pandas e do NumPy podem se tornar mais evidentes, potencialmente reduzindo o tempo de execução em relação às estruturas básicas.\n",
    "\n",
    "Assim, para conjuntos de dados pequenos, como o utilizado neste projeto, estruturas simples como dicionários oferecem melhor desempenho e simplicidade de código. Em contrapartida, para conjuntos de dados maiores e operações mais complexas, o uso de bibliotecas como Pandas ou NumPy pode ser mais adequado, apesar do overhead inicial, devido às suas funcionalidades avançadas e capacidade de lidar com grandes volumes de dados de forma eficiente."
   ]
  },
  {
   "cell_type": "markdown",
   "id": "f0d1e349-e6bc-47cc-b10d-755d07ab6dad",
   "metadata": {},
   "source": [
    "#### Análise da Média de Precisão por Residente"
   ]
  },
  {
   "cell_type": "markdown",
   "id": "500b34a2-fec7-4066-989b-d79fc2aa95bb",
   "metadata": {},
   "source": [
    "Utilizando as funções implementadas, obtivemos as seguintes médias de precisão para cada residente:"
   ]
  },
  {
   "cell_type": "code",
   "execution_count": 59,
   "id": "65dbd903-2ec0-49a7-919f-28f35d7c8c7e",
   "metadata": {},
   "outputs": [
    {
     "name": "stdout",
     "output_type": "stream",
     "text": [
      "Média de Precisão por Residente:\n",
      "Caíque Walter Silva (ID 3): 0.4921\n",
      "Gabriela Marsiglia (ID 4): 0.5827\n",
      "Matheus José de Lima Costa (ID 5): 0.4925\n"
     ]
    }
   ],
   "source": [
    "media_precisao = media_precisao_pandas(df_executa)\n",
    "print(\"Média de Precisão por Residente:\")\n",
    "for id_usuario, media in media_precisao.items():\n",
    "    nome = df_usuarios[df_usuarios['ID_USUARIO'] == id_usuario]['NM_USUARIO'].values[0]\n",
    "    print(f\"{nome} (ID {id_usuario}): {media:.4f}\")"
   ]
  },
  {
   "cell_type": "markdown",
   "id": "b0876145-33b1-4650-a5d1-6fa2d1901977",
   "metadata": {},
   "source": [
    "*Observamos que o residente com `Gabriela Marsiglia (ID 4)` possui a maior média de precisão.*"
   ]
  },
  {
   "cell_type": "markdown",
   "id": "59521cec-f311-4ded-8dbf-f73e11b3f408",
   "metadata": {},
   "source": [
    "### Fechar a Conexão com o Banco de Dados"
   ]
  },
  {
   "cell_type": "code",
   "execution_count": 55,
   "id": "5a6d3acf-3d22-4646-a67f-6aa30d8093ad",
   "metadata": {},
   "outputs": [
    {
     "name": "stdout",
     "output_type": "stream",
     "text": [
      "Conexão encerrada.\n"
     ]
    }
   ],
   "source": [
    "connection.close()\n",
    "print(\"Conexão encerrada.\")"
   ]
  },
  {
   "cell_type": "markdown",
   "id": "30a32d10-4b3c-4823-8bfe-912a48e9e0ed",
   "metadata": {},
   "source": [
    "## Conclusão"
   ]
  },
  {
   "cell_type": "markdown",
   "id": "3c9c782e-ee79-41c0-9a8d-028ed6a34a5c",
   "metadata": {},
   "source": [
    "Os resultados indicam que, para conjuntos de dados pequenos, como os utilizados neste projeto, estruturas simples como Dicionários de Dicionários são mais eficientes tanto em termos de tempo de execução quanto em simplicidade de código. Elas permitem acesso rápido e direto aos dados, facilitando operações como agregações e cálculos estatísticos sem a necessidade de bibliotecas externas.\n",
    "\n",
    "Embora o Pandas DataFrame seja uma ferramenta poderosa para manipulação e análise de dados, seu uso pode não ser justificado em cenários com pequenos volumes de dados, devido ao overhead de performance observado. No entanto, em situações com conjuntos de dados maiores e operações mais complexas, as otimizações internas do Pandas podem superar esse overhead inicial, tornando-o mais eficiente.\n",
    "\n",
    "O uso de NumPy Arrays também pode ser vantajoso em operações numéricas intensivas e com grandes volumes de dados, mas requer um código mais elaborado para manipulações que são mais diretas com dicionários."
   ]
  },
  {
   "cell_type": "markdown",
   "id": "71b3b31b-08e2-4116-9a47-7d691899ae99",
   "metadata": {},
   "source": [
    "## Referências"
   ]
  },
  {
   "cell_type": "markdown",
   "id": "699b49af-831a-4f07-b8dd-7e5d443e96a5",
   "metadata": {},
   "source": [
    "- Documentação do oracledb\n",
    "- Documentação do Pandas\n",
    "- Documentação do NumPy\n",
    "- Documentação do timeit"
   ]
  }
 ],
 "metadata": {
  "kernelspec": {
   "display_name": "Python 3 (ipykernel)",
   "language": "python",
   "name": "python3"
  },
  "language_info": {
   "codemirror_mode": {
    "name": "ipython",
    "version": 3
   },
   "file_extension": ".py",
   "mimetype": "text/x-python",
   "name": "python",
   "nbconvert_exporter": "python",
   "pygments_lexer": "ipython3",
   "version": "3.11.7"
  }
 },
 "nbformat": 4,
 "nbformat_minor": 5
}
